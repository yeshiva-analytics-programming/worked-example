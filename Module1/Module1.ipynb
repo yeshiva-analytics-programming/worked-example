{
 "cells": [
  {
   "cell_type": "markdown",
   "metadata": {},
   "source": [
    "# Welcome to the 311 Worked Example!\n",
    "\n",
    "We'll be working together on New York 311 data throughout the course to help you learn Python and give you an idea of the level of complexity we expect of you in your final project.\n",
    "\n",
    "311 data can be found at https://nycopendata.socrata.com/Social-Services/311-Service-Requests-from-2010-to-Present/erm2-nwe9.\n",
    "\n",
    "-----------"
   ]
  },
  {
   "cell_type": "markdown",
   "metadata": {},
   "source": [
    "I can duplicate the cell above, and leave one alone, and run one, so you can see both what the raw and rendered Markdown look like!"
   ]
  },
  {
   "cell_type": "markdown",
   "metadata": {},
   "source": [
    "# Welcome to the 311 Worked Example!\n",
    "\n",
    "We'll be working together on New York 311 data throughout the course to help you learn Python and give you an idea of the level of complexity we expect of you in your final project.\n",
    "\n",
    "311 data can be found at https://nycopendata.socrata.com/Social-Services/311-Service-Requests-from-2010-to-Present/erm2-nwe9.\n",
    "\n",
    "-----------"
   ]
  },
  {
   "cell_type": "markdown",
   "metadata": {},
   "source": [
    "In this module, Module 1, we are going to use Markdown to document some things we know about the 311 data set.  This gives people who are reading our scripts some context to understand what we're doing.\n",
    "\n",
    "**Note: while you *can* use 'WYSIWYG' tools like the ones found in Google Collaboratory to format text, we *strongly* advise that you instead get in the habit of using actual Markdown!**\n",
    "\n",
    "In Markdown, we can use \n",
    "\n",
    "# A Single Hashmark (#) For This Level of Header\n",
    "## Two Hashmarks (##) For This Level\n",
    "### Three Hashmarks... you get the idea...\n",
    "\n",
    "You can make text *italic* using single asterisks, or using single _underscores_ on either side of the word or phrase you want to emphasize.\n",
    "\n",
    "Similarly, you can double those symbols to make something __bold__.\n",
    "\n",
    "If you do three asterisks or underscores, you get ***bold AND italic!***  \n",
    "\n",
    "Again, I'll show you what I mean by duplicating this cell."
   ]
  },
  {
   "cell_type": "markdown",
   "metadata": {},
   "source": [
    "In this module, Module 1, we are going to use Markdown to document some things we know about the 311 data set.  This gives people who are reading our scripts some context to understand what we're doing.\n",
    "\n",
    "**Note: while you *can* use 'WYSIWYG' tools like the ones found in Google Collaboratory to format text, we *strongly* advise that you instead get in the habit of using actual Markdown!**\n",
    "\n",
    "In Markdown, we can use \n",
    "\n",
    "# A Single Hashmark (#) For This Level of Header\n",
    "## Two Hashmarks (##) For This Level\n",
    "### Three Hashmarks... you get the idea...\n",
    "\n",
    "You can make text *italic* using single asterisks, or using single _underscores_ on either side of the word or phrase you want to emphasize.\n",
    "\n",
    "Similarly, you can double those symbols to make something __bold__.\n",
    "\n",
    "If you do three asterisks or underscores, you get ***bold AND italic!***  \n",
    "\n",
    "Again, I'll show you what I mean by duplicating this cell."
   ]
  },
  {
   "cell_type": "markdown",
   "metadata": {},
   "source": [
    "Want to indicate \"hey Markdown, I don't actually want to use enclosing asterisks as a formatting hint, I want to actually print the asterisks on either side of a word\"?  You can use the backslash to say \"literally this character\". \n",
    "\n",
    "Consider, for example, the following:\n",
    "\n",
    "**asterisks can help make things bold!**\n",
    "\n",
    "\\*\\*asterisks can help make things bold!\\*\\*\n",
    "\n",
    "\n",
    "Want to format something as code? Use backticks (\\`)"
   ]
  },
  {
   "cell_type": "markdown",
   "metadata": {},
   "source": [
    "Want to indicate \"hey Markdown, I don't actually want to use enclosing asterisks as a formatting hint, I want to actually print the asterisks on either side of a word\"?  You can use the backslash to say \"literally this character\". \n",
    "\n",
    "Consider, for example, the following:\n",
    "\n",
    "**asterisks can help make things bold!**\n",
    "\n",
    "\\*\\*asterisks can help make things bold!\\*\\*\n",
    "\n",
    "\n",
    "Want to format something as code? Use backticks (\\`)"
   ]
  },
  {
   "cell_type": "markdown",
   "metadata": {},
   "source": [
    "\n",
    "\n",
    "What about other commonly used things like quote callouts, bulleted lists, etc.?   You can pick that up pretty easily with a cursory view of https://www.ibm.com/support/knowledgecenter/en/SSGNPV_1.1.3/dsx/markd-jupyter.html.\n",
    "\n",
    "-----------\n",
    "-----------\n",
    "\n",
    "What's your job in your group?  To work together, sharing screens, to come up with some helpful Markdown that tells a naive stakeholder (someone who doesn't know anything about your project) the basic info about the 311 dataset.  Often, when we describe a dataset, we provide metadata (data about the data) such as:\n",
    "\n",
    "* What the data measures\n",
    "* Where the data comes from\n",
    "* Who collected the data\n",
    "* The dates included in the data\n",
    "* Whether the data includes any sensitive information\n",
    "* The number of fields / columns\n",
    "* The number of observations / rows\n",
    "* How frequently data is updated\n",
    "* Any intellectual property restriction (like copyright)\n",
    "* Whether a data dictionary exists, and where it can be found\n",
    "* The format of the data\n",
    "* The size (in bytes) of the data\n",
    "\n",
    "Not all of this applies to 311, and you will probably find other things you want to mention that aren't on this list.\n",
    "\n",
    "Work together with your group to come up with Markdown that's well formatted (headers where you need them to break up categories, bulleted lists where they make sense) and that help explain what the 311 data is.\n",
    "\n",
    "To work as a team, you can screenshare and send Markdown and/or code back and forth via chat, or consider using a platform like Google Collaboratory (https://colab.research.google.com, free to sign up) to share your Jupyter notebooks.  Once you have a version of the notebook that you like, it will be helpful for each team member to save it for reuse later -- for example, in a git repository that you are synching to GitHub regularly.  You won't always be in the same team, so don't rely on your teammates to save it on your behalf!"
   ]
  }
 ],
 "metadata": {
  "kernelspec": {
   "display_name": "Python 3",
   "language": "python",
   "name": "python3"
  },
  "language_info": {
   "codemirror_mode": {
    "name": "ipython",
    "version": 3
   },
   "file_extension": ".py",
   "mimetype": "text/x-python",
   "name": "python",
   "nbconvert_exporter": "python",
   "pygments_lexer": "ipython3",
   "version": "3.7.1"
  }
 },
 "nbformat": 4,
 "nbformat_minor": 2
}
